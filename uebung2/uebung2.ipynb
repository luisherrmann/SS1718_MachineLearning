{
 "cells": [
  {
   "cell_type": "markdown",
   "metadata": {},
   "source": [
    "<center>\n",
    "<h1>Mustererkennung und Machine Learning</h1>\n",
    "\n",
    "<h3> Wintersemester 2017/2018, 2nd Exercise Sheet</h3>\n",
    "<h4>Luis Herrmann; Dozent: Raúl Rojas</h4>\n",
    "\n",
    "<hr style='height:1px'>\n",
    "</center>"
   ]
  },
  {
   "cell_type": "markdown",
   "metadata": {},
   "source": [
    "First of all, we define the functions to load the data form the specified files. Please sure to change the path for the training files for the respective path."
   ]
  },
  {
   "cell_type": "code",
   "execution_count": 1,
   "metadata": {
    "collapsed": false
   },
   "outputs": [],
   "source": [
    "%matplotlib inline\n",
    "import sys\n",
    "import numpy as np\n",
    "import pandas as pd\n",
    "import matplotlib.pyplot as plt\n",
    "\n",
    "def readfile(filename):\n",
    "    \"\"\"Opens file with given filename and reads in data line after line into a numpy array\"\"\"\n",
    "    data = []\n",
    "    f = open(filename)\n",
    "    for line in f:\n",
    "        ls = line.split(' ')\n",
    "        digit = int(float(ls[0]))\n",
    "        matrix = np.array([float(val) for val in ls[1:257]])\n",
    "        data.append((digit,matrix))\n",
    "    f.close()\n",
    "    return(data)\n",
    "    \n",
    "def visualize(data,i):\n",
    "    \"\"\"For a list of numpy arrays with 256 greyscale values, visualizes the greyscale data creating a greyscale plot of the reshaped 16x16 numpy array\"\"\"\n",
    "    plt.gray()\n",
    "    plt.imshow(data[i][1].reshape([16,16]))\n",
    "    \n",
    "train = readfile('E:/Users/Tanui/Documents/Uni/info/MachineLearning/uebung1/zip.train')\n",
    "test = readfile('E:/Users/Tanui/Documents/Uni/info/MachineLearning/uebung1/zip.test')"
   ]
  },
  {
   "cell_type": "markdown",
   "metadata": {},
   "source": [
    "To make sure that our data makes sense, we visualize the greyscale data vector for our first data sample of the training data."
   ]
  },
  {
   "cell_type": "code",
   "execution_count": 2,
   "metadata": {
    "collapsed": false
   },
   "outputs": [
    {
     "data": {
      "image/png": "[encoded data removed]",
      "text/plain": [
       "<matplotlib.figure.Figure at 0x228011003c8>"
      ]
     },
     "metadata": {},
     "output_type": "display_data"
    }
   ],
   "source": [
    "visualize(train,0)"
   ]
  },
  {
   "cell_type": "markdown",
   "metadata": {},
   "source": [
    "Now we can get started programming a binary classifier. For this, we set up a class BinaryClassifier which is fairly straight forward: For the digits specified in the constructor, the classifier can be trained with the trainData and by calling the <font color=blue>reduce()</font>-method will only train using samples corresponding to the digits specified.\n",
    "\n",
    "The training is as follows. Consider a binary classifier for digits $d_1$ and $d_2$. Let the training data list contain $N$ vectors $v_1,v_2, ... v_n$ of size $n = 256$. Each vector has a pre-assigned digit class $\\delta_i = d_1, d_2$. For each vector $v_i$, we will assign the label:\n",
    "\n",
    "<center>$y_i = \\begin{cases}+1, &\\delta_i =d_1\\\\-1, &\\delta_i = d_2 \\end{cases}$</center>\n",
    "\n",
    "Training means that we want to determine a set of coefficients $\\beta_0, \\beta_1, ..., \\beta_n$ such that any vector satisfies\n",
    "\n",
    "<center>$y_i = \\beta_0 + \\beta_1 v_{i1} + ... + \\beta_n v_{in}$</center>\n",
    "\n",
    "So, we formulate the linear equation system as $X\\vec{\\beta} = \\vec{y}$, where:\n",
    "\n",
    "<center>$X = \\begin{pmatrix} 1 &v_{11} &... &v_{1n}\\\\\n",
    "1 &v_{21} &... &v_{2n}\\\\\n",
    "\\vdots &\\vdots &\\ddots &\\vdots\\\\\n",
    "1 &v_{N1} &... &v_{Nn}\n",
    "\\end{pmatrix}\n",
    "\\quad \\vec{\\beta} = (\\beta_0, \\beta_1, ..., \\beta_n)\n",
    "\\quad \\vec{y} = (y_0, y_1, ..., y_n)$\n",
    "</center>\n",
    "\n",
    "As derived in <a href='http://www.inf.fu-berlin.de/inst/ag-ki/rojas_home/documents/tutorials/LinearRegression.pdf'>this article</a>, one can show that even when $X$ is not invertible, the optimum solution of the above equation (which is the least squares problem) is obtained as $\\beta = X^+ y$ where $X^+$ is the pseudoinverse of $X$."
   ]
  },
  {
   "cell_type": "code",
   "execution_count": 3,
   "metadata": {
    "collapsed": false
   },
   "outputs": [],
   "source": [
    "class BinaryClassifier:\n",
    "    def __init__(self, digit1, digit2, data=None):\n",
    "        \"\"\"Expects data and two nonequal ints betweeen 0 and 9 specifying the class of the classifier\"\"\"\n",
    "        if(not(0 <= digit1 and digit1 <= 9 and 0 <= digit2 and digit2 <= 9)):\n",
    "            raise Exception('The digits passed must be an int between 0 and 9!')\n",
    "        if(digit1 == digit2):\n",
    "            raise Exception('The digits passed must not be equal!')\n",
    "        self.digit1 = digit1\n",
    "        self.digit2 = digit2\n",
    "        if(data != None):\n",
    "            self.train(data)\n",
    "        \n",
    "    def train(self, trainData):\n",
    "        ftrainData = self.reduce(trainData)\n",
    "        #Determine dimensions of the classifier matrix (where n is the number of features) and build it:\n",
    "        N, n = len(ftrainData), 256\n",
    "        X = np.zeros([N,n+1])\n",
    "        X[:,0] = 1\n",
    "        y = np.zeros(N)\n",
    "        for i in range(N):\n",
    "            X[i,1:] = ftrainData[i][1]\n",
    "            #Label +1 for match with digit class, -1 for no-match with digit class\n",
    "            if(ftrainData[i][0] == self.digit1):\n",
    "                y[i] = +1.\n",
    "            else:\n",
    "                y[i] = -1.\n",
    "        Xp = np.linalg.pinv(X)\n",
    "        self.b = np.dot(Xp,y)\n",
    "    \n",
    "    def reduce(self, data):\n",
    "        \"\"\"Keeps only data samples corresponding to the two digits of the class\"\"\"\n",
    "        filteredData = []\n",
    "        for sample in data:\n",
    "            if(sample[0] == self.digit1 or sample[0] == self.digit2):\n",
    "                filteredData.append(sample)\n",
    "        return filteredData\n",
    "        \n",
    "    def classify(self, data):\n",
    "        \"\"\"\n",
    "        Expects a vector of dimension 256.\n",
    "        Returns:\n",
    "            digit1 if classification value lies in [0.,1.] (closer to +1 than to -1)\n",
    "            digit2 if classification value lies in [-1.,0.] (closer to -1 than to +1)\n",
    "        \"\"\"\n",
    "        value = self.b[0] + np.dot(self.b[1:], data)\n",
    "        if(value > 0):\n",
    "            return self.digit1\n",
    "        else:\n",
    "            return self.digit2"
   ]
  },
  {
   "cell_type": "markdown",
   "metadata": {},
   "source": [
    "With the classifier defined, we derive three different classifiers for the respective digits"
   ]
  },
  {
   "cell_type": "code",
   "execution_count": 4,
   "metadata": {
    "collapsed": false
   },
   "outputs": [],
   "source": [
    "C35 = BinaryClassifier(3, 5, train)\n",
    "C37 = BinaryClassifier(3, 7, train)\n",
    "C38 = BinaryClassifier(3, 8, train)\n",
    "C57 = BinaryClassifier(5, 7, train)\n",
    "C58 = BinaryClassifier(5, 8, train)"
   ]
  },
  {
   "cell_type": "markdown",
   "metadata": {},
   "source": [
    "Finally, we defined a function runtest to run the <font color='blue'>classifer()</font>-functions of the respective classifier on the test data and obtain the confusion matrices and error rates"
   ]
  },
  {
   "cell_type": "code",
   "execution_count": 5,
   "metadata": {
    "collapsed": false
   },
   "outputs": [],
   "source": [
    "from IPython.display import display, HTML\n",
    "def runtest(C):\n",
    "    print('Test for Classifier for digits ' + str(C.digit1) + ' and ' + str(C.digit2) + ':')\n",
    "    ftest = C.reduce(test)\n",
    "    confusionMat = np.zeros([2,2], dtype=int)\n",
    "    for sample in ftest:\n",
    "        confusionMat[int(sample[0] != C.digit1), int(C.classify(sample[1]) != C.digit1)] += 1\n",
    "    print('-The confusion matrix is given by:')\n",
    "    html = pd.DataFrame(confusionMat,index=[str(C.digit1),str(C.digit2)], columns=[str(C.digit1),str(C.digit2)]).to_html()\n",
    "    display(HTML(html))\n",
    "    print('-The error rate is: ' + str(1-sum(np.diag(confusionMat))/len(ftest)) + '\\n')"
   ]
  },
  {
   "cell_type": "code",
   "execution_count": 6,
   "metadata": {
    "collapsed": false
   },
   "outputs": [
    {
     "name": "stdout",
     "output_type": "stream",
     "text": [
      "Test for Classifier for digits 3 and 5:\n",
      "-The confusion matrix is given by:\n"
     ]
    },
    {
     "data": {
      "text/html": [
       "<table border=\"1\" class=\"dataframe\">\n",
       "  <thead>\n",
       "    <tr style=\"text-align: right;\">\n",
       "      <th></th>\n",
       "      <th>3</th>\n",
       "      <th>5</th>\n",
       "    </tr>\n",
       "  </thead>\n",
       "  <tbody>\n",
       "    <tr>\n",
       "      <th>3</th>\n",
       "      <td>154</td>\n",
       "      <td>12</td>\n",
       "    </tr>\n",
       "    <tr>\n",
       "      <th>5</th>\n",
       "      <td>11</td>\n",
       "      <td>149</td>\n",
       "    </tr>\n",
       "  </tbody>\n",
       "</table>"
      ],
      "text/plain": [
       "<IPython.core.display.HTML object>"
      ]
     },
     "metadata": {},
     "output_type": "display_data"
    },
    {
     "name": "stdout",
     "output_type": "stream",
     "text": [
      "-The error rate is: 0.0705521472393\n",
      "\n",
      "Test for Classifier for digits 3 and 7:\n",
      "-The confusion matrix is given by:\n"
     ]
    },
    {
     "data": {
      "text/html": [
       "<table border=\"1\" class=\"dataframe\">\n",
       "  <thead>\n",
       "    <tr style=\"text-align: right;\">\n",
       "      <th></th>\n",
       "      <th>3</th>\n",
       "      <th>7</th>\n",
       "    </tr>\n",
       "  </thead>\n",
       "  <tbody>\n",
       "    <tr>\n",
       "      <th>3</th>\n",
       "      <td>161</td>\n",
       "      <td>5</td>\n",
       "    </tr>\n",
       "    <tr>\n",
       "      <th>7</th>\n",
       "      <td>3</td>\n",
       "      <td>144</td>\n",
       "    </tr>\n",
       "  </tbody>\n",
       "</table>"
      ],
      "text/plain": [
       "<IPython.core.display.HTML object>"
      ]
     },
     "metadata": {},
     "output_type": "display_data"
    },
    {
     "name": "stdout",
     "output_type": "stream",
     "text": [
      "-The error rate is: 0.0255591054313\n",
      "\n",
      "Test for Classifier for digits 3 and 8:\n",
      "-The confusion matrix is given by:\n"
     ]
    },
    {
     "data": {
      "text/html": [
       "<table border=\"1\" class=\"dataframe\">\n",
       "  <thead>\n",
       "    <tr style=\"text-align: right;\">\n",
       "      <th></th>\n",
       "      <th>3</th>\n",
       "      <th>8</th>\n",
       "    </tr>\n",
       "  </thead>\n",
       "  <tbody>\n",
       "    <tr>\n",
       "      <th>3</th>\n",
       "      <td>156</td>\n",
       "      <td>10</td>\n",
       "    </tr>\n",
       "    <tr>\n",
       "      <th>8</th>\n",
       "      <td>6</td>\n",
       "      <td>160</td>\n",
       "    </tr>\n",
       "  </tbody>\n",
       "</table>"
      ],
      "text/plain": [
       "<IPython.core.display.HTML object>"
      ]
     },
     "metadata": {},
     "output_type": "display_data"
    },
    {
     "name": "stdout",
     "output_type": "stream",
     "text": [
      "-The error rate is: 0.0481927710843\n",
      "\n",
      "Test for Classifier for digits 5 and 7:\n",
      "-The confusion matrix is given by:\n"
     ]
    },
    {
     "data": {
      "text/html": [
       "<table border=\"1\" class=\"dataframe\">\n",
       "  <thead>\n",
       "    <tr style=\"text-align: right;\">\n",
       "      <th></th>\n",
       "      <th>5</th>\n",
       "      <th>7</th>\n",
       "    </tr>\n",
       "  </thead>\n",
       "  <tbody>\n",
       "    <tr>\n",
       "      <th>5</th>\n",
       "      <td>157</td>\n",
       "      <td>3</td>\n",
       "    </tr>\n",
       "    <tr>\n",
       "      <th>7</th>\n",
       "      <td>2</td>\n",
       "      <td>145</td>\n",
       "    </tr>\n",
       "  </tbody>\n",
       "</table>"
      ],
      "text/plain": [
       "<IPython.core.display.HTML object>"
      ]
     },
     "metadata": {},
     "output_type": "display_data"
    },
    {
     "name": "stdout",
     "output_type": "stream",
     "text": [
      "-The error rate is: 0.0162866449511\n",
      "\n",
      "Test for Classifier for digits 5 and 8:\n",
      "-The confusion matrix is given by:\n"
     ]
    },
    {
     "data": {
      "text/html": [
       "<table border=\"1\" class=\"dataframe\">\n",
       "  <thead>\n",
       "    <tr style=\"text-align: right;\">\n",
       "      <th></th>\n",
       "      <th>5</th>\n",
       "      <th>8</th>\n",
       "    </tr>\n",
       "  </thead>\n",
       "  <tbody>\n",
       "    <tr>\n",
       "      <th>5</th>\n",
       "      <td>154</td>\n",
       "      <td>6</td>\n",
       "    </tr>\n",
       "    <tr>\n",
       "      <th>8</th>\n",
       "      <td>6</td>\n",
       "      <td>160</td>\n",
       "    </tr>\n",
       "  </tbody>\n",
       "</table>"
      ],
      "text/plain": [
       "<IPython.core.display.HTML object>"
      ]
     },
     "metadata": {},
     "output_type": "display_data"
    },
    {
     "name": "stdout",
     "output_type": "stream",
     "text": [
      "-The error rate is: 0.0368098159509\n",
      "\n"
     ]
    }
   ],
   "source": [
    "runtest(C35)\n",
    "runtest(C37)\n",
    "runtest(C38)\n",
    "runtest(C57)\n",
    "runtest(C58)"
   ]
  },
  {
   "cell_type": "code",
   "execution_count": null,
   "metadata": {
    "collapsed": true
   },
   "outputs": [],
   "source": []
  }
 ],
 "metadata": {
  "kernelspec": {
   "display_name": "Python 3",
   "language": "python",
   "name": "python3"
  },
  "language_info": {
   "codemirror_mode": {
    "name": "ipython",
    "version": 3
   },
   "file_extension": ".py",
   "mimetype": "text/x-python",
   "name": "python",
   "nbconvert_exporter": "python",
   "pygments_lexer": "ipython3",
   "version": "3.5.2"
  }
 },
 "nbformat": 4,
 "nbformat_minor": 0
}
