{
 "cells": [
  {
   "cell_type": "markdown",
   "metadata": {},
   "source": [
    "<center>\n",
    "<h1>Mustererkennung und Machine Learning</h1>\n",
    "\n",
    "<h3> Wintersemester 2017/2018, 3rd Exercise Sheet</h3>\n",
    "<h4>Luis Herrmann; Dozent: Raúl Rojas</h4>\n",
    "\n",
    "<hr style='height:1px'>\n",
    "</center>"
   ]
  },
  {
   "cell_type": "markdown",
   "metadata": {},
   "source": [
    "First of all, we define the functions to load the data form the specified files. Please sure to change the path for the training files for the respective path."
   ]
  },
  {
   "cell_type": "code",
   "execution_count": 8,
   "metadata": {},
   "outputs": [],
   "source": [
    "%matplotlib inline\n",
    "import sys\n",
    "import numpy as np\n",
    "import pandas as pd\n",
    "import matplotlib.pyplot as plt\n",
    "\n",
    "def readfile(filename):\n",
    "    \"\"\"Opens file with given filename and reads in data line after line into a numpy array\"\"\"\n",
    "    data = []\n",
    "    f = open(filename)\n",
    "    for line in f:\n",
    "        ls = line.split(' ')\n",
    "        digit = int(float(ls[0]))\n",
    "        matrix = np.array([float(val) for val in ls[1:257]])\n",
    "        data.append((digit,matrix))\n",
    "    f.close()\n",
    "    return(data)\n",
    "    \n",
    "def visualize(data,i):\n",
    "    \"\"\"\n",
    "    For a list of numpy arrays with 256 greyscale values, visualizes the greyscale data \n",
    "    creating a greyscale plot of the reshaped 16x16 numpy array\n",
    "    \"\"\"\n",
    "    plt.gray()\n",
    "    plt.imshow(data[i][1].reshape([16,16]))\n",
    "    \n",
    "train = readfile('E:/Users/Tanui/Documents/Uni/info/MachineLearning/zip.train')\n",
    "test = readfile('E:/Users/Tanui/Documents/Uni/info/MachineLearning/zip.test')"
   ]
  },
  {
   "cell_type": "markdown",
   "metadata": {},
   "source": [
    "To make sure that our data makes sense, we visualize the greyscale data vector for our first data sample of the training data."
   ]
  },
  {
   "cell_type": "code",
   "execution_count": 9,
   "metadata": {},
   "outputs": [
    {
     "data": {
      "image/png": "[encoded data removed]",
      "text/plain": [
       "<matplotlib.figure.Figure at 0x2663bc6e2e8>"
      ]
     },
     "metadata": {},
     "output_type": "display_data"
    }
   ],
   "source": [
    "visualize(train,0)"
   ]
  },
  {
   "cell_type": "markdown",
   "metadata": {},
   "source": [
    "Now we shall implement a classifier using  a gaussian multivariate distribution. For such a distribution, the probability is given by:\n",
    "\n",
    "<center>$p(\\vec{x}) = \\frac{1}{\\sqrt{(2\\pi)^{n} \\det(\\Sigma)}} \\exp\\left(-\\frac{1}{2} (\\vec{x} - \\vec{\\mu})^T \\Sigma^{-1} (\\vec{x} - \\vec{\\mu}) \\right)$</center>\n",
    "\n",
    "Where $n$ is the dimension of the multivariate distribution, $\\Sigma$ is the so-called covariance matrix and $\\vec{\\mu}$ the mean vector. Given a set of training vectors $\\vec{v_1}, \\vec{v_2}, ... \\vec{v_N}$, the latter are determined as:\n",
    "\n",
    "<center>$\\Sigma := \\frac{1}{N}\\sum_i^N (\\vec{x}_i - \\vec{\\mu})(\\vec{x}_i - \\vec{\\mu})^T \\qquad \\vec{\\mu} := \\frac{1}{N} \\sum_i^N \\vec{x}_i$</center>\n",
    "\n",
    "So the idea is the following: Use a set of training vectors to compute a Gaussian distribution for each digit class describing the probability that a vector $\\vec{x}$ belongs to that class.\n",
    "After that, given a vector $\\vec{x}$ that we want to assign to one of the classes of our respective classifier, calculate the probability $p_d(\\vec{x})$ for all digit classes $d$ considered by the classifier and assign $\\vec{x}$ to the digit class $d$ for which $p_d(\\vec{x})$ is greatest."
   ]
  },
  {
   "cell_type": "code",
   "execution_count": 50,
   "metadata": {},
   "outputs": [],
   "source": [
    "class GaussianClassifier:\n",
    "    def __init__(self, digits, data=None):\n",
    "        \"\"\"Expects data and two nonequal ints betweeen 0 and 9 specifying the class of the classifier\"\"\"\n",
    "        self.digits = []\n",
    "        digitsOccurence = [0]*10\n",
    "        for digit in digits:\n",
    "            if(not(0 <= digit and digit <= 9)):\n",
    "                raise Exeption('The digits passed must be an int between 0 and 9!')\n",
    "            if(digitsOccurence[digit] == 1):\n",
    "                print('Multiple occurence of digit class ' + str(digit) + ' will be ignored..')\n",
    "            else:\n",
    "                self.digits.append(digit)\n",
    "                digitsOccurence[digit] = 1\n",
    "        if(sum(digitsOccurence) < 2):\n",
    "            raise Exception('You must pass at least two different digit classes!')\n",
    "        if(data != None):\n",
    "            self.train(data)\n",
    "        \n",
    "    def train(self, trainData):\n",
    "        \"\"\"\n",
    "        Expects a list of [d,v], where v is a data vector and d the assigned digit class and trains\n",
    "        by calculating the parameters of the corresponding multivariate gaussian distributions p_c(x).\n",
    "        \"\"\"\n",
    "        #Extracting of data belonging to registered digits\n",
    "        digitData = {}\n",
    "        for sample in trainData:\n",
    "            if(sample[0] in self.digits):\n",
    "                if(sample[0] in digitData):\n",
    "                    digitData[sample[0]].append(np.reshape(sample[1], [256,1]))\n",
    "                else:\n",
    "                    digitData[sample[0]] = [np.reshape(sample[1], [256,1])]\n",
    "        print('Filtering of data complete.')\n",
    "        #Calculate the parameters of p_c(x) for each digit class \n",
    "        self.params = {}\n",
    "        for key in digitData:\n",
    "            mu = sum(digitData[key])/len(digitData[key])\n",
    "            Sigma = sum([np.dot(x-mu,np.transpose(x-mu)) for x in digitData[key]])/len(digitData[key])\n",
    "            fac = 1e-1\n",
    "            step = fac*np.identity(256)\n",
    "            while(np.linalg.det(Sigma) == 0):\n",
    "                Sigma += step\n",
    "            norm = 1/np.sqrt((2*np.pi)**256 * np.linalg.det(Sigma))\n",
    "            Sigmai = -1/2*np.linalg.inv(Sigma)\n",
    "            self.params[key] = (norm, mu, Sigmai)\n",
    "        print('Completed training on ' + str(sum([len(digitData[k]) for k in digitData])) + ' data samples.')\n",
    "    \n",
    "    def reduce(self, data):\n",
    "        \"\"\"Keeps only data samples corresponding to the two digits of the class\"\"\"\n",
    "        filteredData = []\n",
    "        for sample in data:\n",
    "            if(sample[0] in self.digits):\n",
    "                filteredData.append(sample)\n",
    "        return filteredData\n",
    "        \n",
    "    def classify(self, data):\n",
    "        \"\"\"\n",
    "        Expects a vector of dimension 256.\n",
    "        Returns digit, for which the probability is greatest assuming a gaussian multivariate distribution\n",
    "        \"\"\" \n",
    "        def gaussian(digit,x):\n",
    "            norm, mu, Sigmai = self.params[digit]\n",
    "            return norm*np.exp(np.dot(np.transpose(x-mu),np.dot(Sigmai,x-mu)))\n",
    "        \n",
    "        return max(self.digits, key=lambda x: gaussian(x, np.reshape(data, [256,1])))"
   ]
  },
  {
   "cell_type": "markdown",
   "metadata": {},
   "source": [
    "With the classifier defined, we derive six different classifiers for the respective digits:"
   ]
  },
  {
   "cell_type": "code",
   "execution_count": 45,
   "metadata": {},
   "outputs": [
    {
     "name": "stdout",
     "output_type": "stream",
     "text": [
      "Filtering of data complete.\n",
      "Completed training on 1214 data samples.\n",
      "Filtering of data complete.\n",
      "Completed training on 1303 data samples.\n",
      "Filtering of data complete.\n",
      "Completed training on 1200 data samples.\n",
      "Filtering of data complete.\n",
      "Completed training on 1201 data samples.\n",
      "Filtering of data complete.\n",
      "Completed training on 1098 data samples.\n",
      "Filtering of data complete.\n",
      "Completed training on 1187 data samples.\n"
     ]
    }
   ],
   "source": [
    "C35 = GaussianClassifier([3, 5], train)\n",
    "C37 = GaussianClassifier([3, 7], train)\n",
    "C38 = GaussianClassifier([3, 8], train)\n",
    "C57 = GaussianClassifier([5, 7], train)\n",
    "C58 = GaussianClassifier([5, 8], train)\n",
    "C78 = GaussianClassifier([7, 8], train)"
   ]
  },
  {
   "cell_type": "markdown",
   "metadata": {},
   "source": [
    "Finally, we define a function runtest to run the <font color='blue'>classifer()</font>-functions of the respective classifier on the test data and obtain the confusion matrices and error rates"
   ]
  },
  {
   "cell_type": "code",
   "execution_count": 46,
   "metadata": {},
   "outputs": [],
   "source": [
    "from IPython.display import display, HTML\n",
    "def runtest(C):\n",
    "    index= {}\n",
    "    for i in range(len(C.digits)):\n",
    "        index[C.digits[i]] = i\n",
    "    print('Test for Classifier for digits ' + ', '.join([str(x) for x in C.digits[:-1]]) + ' and ' + str(C.digits[-1]) + ':')\n",
    "    ftest = C.reduce(test)\n",
    "    confusionMat = np.zeros([len(C.digits), len(C.digits)], dtype=int)\n",
    "    for sample in ftest:\n",
    "        confusionMat[index[sample[0]], index[C.classify(sample[1])]] += 1\n",
    "    print('-The confusion matrix is given by:')\n",
    "    html = pd.DataFrame(confusionMat,index=[str(x) for x in C.digits], columns=[str(x) for x in C.digits]).to_html()\n",
    "    display(HTML(html))\n",
    "    print('-The error rate is: ' + str(1-sum(np.diag(confusionMat))/len(ftest)) + '\\n')"
   ]
  },
  {
   "cell_type": "code",
   "execution_count": 47,
   "metadata": {},
   "outputs": [
    {
     "name": "stdout",
     "output_type": "stream",
     "text": [
      "Test for Classifier for digits 3 and 5:\n",
      "-The confusion matrix is given by:\n"
     ]
    },
    {
     "data": {
      "text/html": [
       "<table border=\"1\" class=\"dataframe\">\n",
       "  <thead>\n",
       "    <tr style=\"text-align: right;\">\n",
       "      <th></th>\n",
       "      <th>3</th>\n",
       "      <th>5</th>\n",
       "    </tr>\n",
       "  </thead>\n",
       "  <tbody>\n",
       "    <tr>\n",
       "      <th>3</th>\n",
       "      <td>153</td>\n",
       "      <td>13</td>\n",
       "    </tr>\n",
       "    <tr>\n",
       "      <th>5</th>\n",
       "      <td>4</td>\n",
       "      <td>156</td>\n",
       "    </tr>\n",
       "  </tbody>\n",
       "</table>"
      ],
      "text/plain": [
       "<IPython.core.display.HTML object>"
      ]
     },
     "metadata": {},
     "output_type": "display_data"
    },
    {
     "name": "stdout",
     "output_type": "stream",
     "text": [
      "-The error rate is: 0.0521472392638\n",
      "\n",
      "Test for Classifier for digits 3 and 7:\n",
      "-The confusion matrix is given by:\n"
     ]
    },
    {
     "data": {
      "text/html": [
       "<table border=\"1\" class=\"dataframe\">\n",
       "  <thead>\n",
       "    <tr style=\"text-align: right;\">\n",
       "      <th></th>\n",
       "      <th>3</th>\n",
       "      <th>7</th>\n",
       "    </tr>\n",
       "  </thead>\n",
       "  <tbody>\n",
       "    <tr>\n",
       "      <th>3</th>\n",
       "      <td>166</td>\n",
       "      <td>0</td>\n",
       "    </tr>\n",
       "    <tr>\n",
       "      <th>7</th>\n",
       "      <td>2</td>\n",
       "      <td>145</td>\n",
       "    </tr>\n",
       "  </tbody>\n",
       "</table>"
      ],
      "text/plain": [
       "<IPython.core.display.HTML object>"
      ]
     },
     "metadata": {},
     "output_type": "display_data"
    },
    {
     "name": "stdout",
     "output_type": "stream",
     "text": [
      "-The error rate is: 0.00638977635783\n",
      "\n",
      "Test for Classifier for digits 3 and 8:\n",
      "-The confusion matrix is given by:\n"
     ]
    },
    {
     "data": {
      "text/html": [
       "<table border=\"1\" class=\"dataframe\">\n",
       "  <thead>\n",
       "    <tr style=\"text-align: right;\">\n",
       "      <th></th>\n",
       "      <th>3</th>\n",
       "      <th>8</th>\n",
       "    </tr>\n",
       "  </thead>\n",
       "  <tbody>\n",
       "    <tr>\n",
       "      <th>3</th>\n",
       "      <td>160</td>\n",
       "      <td>6</td>\n",
       "    </tr>\n",
       "    <tr>\n",
       "      <th>8</th>\n",
       "      <td>6</td>\n",
       "      <td>160</td>\n",
       "    </tr>\n",
       "  </tbody>\n",
       "</table>"
      ],
      "text/plain": [
       "<IPython.core.display.HTML object>"
      ]
     },
     "metadata": {},
     "output_type": "display_data"
    },
    {
     "name": "stdout",
     "output_type": "stream",
     "text": [
      "-The error rate is: 0.0361445783133\n",
      "\n",
      "Test for Classifier for digits 5 and 7:\n",
      "-The confusion matrix is given by:\n"
     ]
    },
    {
     "data": {
      "text/html": [
       "<table border=\"1\" class=\"dataframe\">\n",
       "  <thead>\n",
       "    <tr style=\"text-align: right;\">\n",
       "      <th></th>\n",
       "      <th>5</th>\n",
       "      <th>7</th>\n",
       "    </tr>\n",
       "  </thead>\n",
       "  <tbody>\n",
       "    <tr>\n",
       "      <th>5</th>\n",
       "      <td>159</td>\n",
       "      <td>1</td>\n",
       "    </tr>\n",
       "    <tr>\n",
       "      <th>7</th>\n",
       "      <td>2</td>\n",
       "      <td>145</td>\n",
       "    </tr>\n",
       "  </tbody>\n",
       "</table>"
      ],
      "text/plain": [
       "<IPython.core.display.HTML object>"
      ]
     },
     "metadata": {},
     "output_type": "display_data"
    },
    {
     "name": "stdout",
     "output_type": "stream",
     "text": [
      "-The error rate is: 0.00977198697068\n",
      "\n",
      "Test for Classifier for digits 5 and 8:\n",
      "-The confusion matrix is given by:\n"
     ]
    },
    {
     "data": {
      "text/html": [
       "<table border=\"1\" class=\"dataframe\">\n",
       "  <thead>\n",
       "    <tr style=\"text-align: right;\">\n",
       "      <th></th>\n",
       "      <th>5</th>\n",
       "      <th>8</th>\n",
       "    </tr>\n",
       "  </thead>\n",
       "  <tbody>\n",
       "    <tr>\n",
       "      <th>5</th>\n",
       "      <td>154</td>\n",
       "      <td>6</td>\n",
       "    </tr>\n",
       "    <tr>\n",
       "      <th>8</th>\n",
       "      <td>6</td>\n",
       "      <td>160</td>\n",
       "    </tr>\n",
       "  </tbody>\n",
       "</table>"
      ],
      "text/plain": [
       "<IPython.core.display.HTML object>"
      ]
     },
     "metadata": {},
     "output_type": "display_data"
    },
    {
     "name": "stdout",
     "output_type": "stream",
     "text": [
      "-The error rate is: 0.0368098159509\n",
      "\n",
      "Test for Classifier for digits 7 and 8:\n",
      "-The confusion matrix is given by:\n"
     ]
    },
    {
     "data": {
      "text/html": [
       "<table border=\"1\" class=\"dataframe\">\n",
       "  <thead>\n",
       "    <tr style=\"text-align: right;\">\n",
       "      <th></th>\n",
       "      <th>7</th>\n",
       "      <th>8</th>\n",
       "    </tr>\n",
       "  </thead>\n",
       "  <tbody>\n",
       "    <tr>\n",
       "      <th>7</th>\n",
       "      <td>143</td>\n",
       "      <td>4</td>\n",
       "    </tr>\n",
       "    <tr>\n",
       "      <th>8</th>\n",
       "      <td>0</td>\n",
       "      <td>166</td>\n",
       "    </tr>\n",
       "  </tbody>\n",
       "</table>"
      ],
      "text/plain": [
       "<IPython.core.display.HTML object>"
      ]
     },
     "metadata": {},
     "output_type": "display_data"
    },
    {
     "name": "stdout",
     "output_type": "stream",
     "text": [
      "-The error rate is: 0.0127795527157\n",
      "\n"
     ]
    }
   ],
   "source": [
    "runtest(C35)\n",
    "runtest(C37)\n",
    "runtest(C38)\n",
    "runtest(C57)\n",
    "runtest(C58)\n",
    "runtest(C78)"
   ]
  },
  {
   "cell_type": "markdown",
   "metadata": {},
   "source": [
    "Finally, we try out the classifier for all classes:"
   ]
  },
  {
   "cell_type": "code",
   "execution_count": 48,
   "metadata": {},
   "outputs": [
    {
     "name": "stdout",
     "output_type": "stream",
     "text": [
      "Filtering of data complete.\n",
      "Completed training on 2401 data samples.\n",
      "Test for Classifier for digits 3, 5, 7 and 8:\n",
      "-The confusion matrix is given by:\n"
     ]
    },
    {
     "data": {
      "text/html": [
       "<table border=\"1\" class=\"dataframe\">\n",
       "  <thead>\n",
       "    <tr style=\"text-align: right;\">\n",
       "      <th></th>\n",
       "      <th>3</th>\n",
       "      <th>5</th>\n",
       "      <th>7</th>\n",
       "      <th>8</th>\n",
       "    </tr>\n",
       "  </thead>\n",
       "  <tbody>\n",
       "    <tr>\n",
       "      <th>3</th>\n",
       "      <td>150</td>\n",
       "      <td>11</td>\n",
       "      <td>0</td>\n",
       "      <td>5</td>\n",
       "    </tr>\n",
       "    <tr>\n",
       "      <th>5</th>\n",
       "      <td>4</td>\n",
       "      <td>150</td>\n",
       "      <td>1</td>\n",
       "      <td>5</td>\n",
       "    </tr>\n",
       "    <tr>\n",
       "      <th>7</th>\n",
       "      <td>1</td>\n",
       "      <td>1</td>\n",
       "      <td>142</td>\n",
       "      <td>3</td>\n",
       "    </tr>\n",
       "    <tr>\n",
       "      <th>8</th>\n",
       "      <td>6</td>\n",
       "      <td>3</td>\n",
       "      <td>0</td>\n",
       "      <td>157</td>\n",
       "    </tr>\n",
       "  </tbody>\n",
       "</table>"
      ],
      "text/plain": [
       "<IPython.core.display.HTML object>"
      ]
     },
     "metadata": {},
     "output_type": "display_data"
    },
    {
     "name": "stdout",
     "output_type": "stream",
     "text": [
      "-The error rate is: 0.0625978090767\n",
      "\n"
     ]
    }
   ],
   "source": [
    "C3578 = GaussianClassifier([3, 5, 7, 8], train)\n",
    "runtest(C3578)"
   ]
  },
  {
   "cell_type": "code",
   "execution_count": null,
   "metadata": {},
   "outputs": [],
   "source": []
  }
 ],
 "metadata": {
  "kernelspec": {
   "display_name": "Python 3 (Root)",
   "language": "python",
   "name": "python3"
  },
  "language_info": {
   "codemirror_mode": {
    "name": "ipython",
    "version": 3
   },
   "file_extension": ".py",
   "mimetype": "text/x-python",
   "name": "python",
   "nbconvert_exporter": "python",
   "pygments_lexer": "ipython3",
   "version": "3.6.3"
  }
 },
 "nbformat": 4,
 "nbformat_minor": 1
}
