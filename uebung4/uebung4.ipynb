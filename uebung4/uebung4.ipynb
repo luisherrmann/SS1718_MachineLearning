{
 "cells": [
  {
   "cell_type": "markdown",
   "metadata": {},
   "source": [
    "<center>\n",
    "<h1>Mustererkennung und Machine Learning</h1>\n",
    "\n",
    "<h3> Wintersemester 2017/2018, 4th Exercise Sheet</h3>\n",
    "<h4>Konstantin Jaehne, Luis Herrmann; Dozent: Raúl Rojas</h4>\n",
    "\n",
    "<hr style='height:1px'>\n",
    "</center>"
   ]
  },
  {
   "cell_type": "markdown",
   "metadata": {},
   "source": [
    "First of all, we define the functions to load the data form the specified files. Please sure to change the path for the training files for the respective path."
   ]
  },
  {
   "cell_type": "code",
   "execution_count": 264,
   "metadata": {},
   "outputs": [
    {
     "name": "stdout",
     "output_type": "stream",
     "text": [
      "Data contains 1813 data points of spam and 2788 points of non-spam.\n"
     ]
    }
   ],
   "source": [
    "%matplotlib inline\n",
    "import sys\n",
    "import numpy as np\n",
    "import pandas as pd\n",
    "import matplotlib.pyplot as plt\n",
    "\n",
    "def readfile(filename):\n",
    "    \"\"\"Opens file with given filename and reads in data line after line into a numpy array\"\"\"\n",
    "    data = []\n",
    "    f = open(filename)\n",
    "    for line in f:\n",
    "        ls = line.split(',')\n",
    "        digit = int(float(ls[57]))\n",
    "        matrix = np.array([float(val) for val in ls[:57]])\n",
    "        data.append((digit,matrix))\n",
    "    f.close()\n",
    "    return(data)\n",
    "    \n",
    "data = readfile('E:/Users/Tanui/Documents/Uni/info/MachineLearning/spambase.data')\n",
    "spam = []\n",
    "nospam = []\n",
    "for sample in data:\n",
    "    if(sample[0] == 1):\n",
    "        spam.append(sample[1].reshape([57,1]))\n",
    "    elif(sample[0] == 0):\n",
    "        nospam.append(sample[1].reshape([57,1]))\n",
    "print('Data contains ' + str(len(spam)) + ' data points of spam and ' + str(len(nospam)) + ' points of non-spam.')\n",
    "train = (nospam[:int(0.8 * len(nospam))], spam[:int(0.8 * len(spam))])\n",
    "test = (nospam[int(0.8 * len(nospam)):], spam[int(0.8 * len(spam)):])"
   ]
  },
  {
   "cell_type": "markdown",
   "metadata": {},
   "source": [
    "Now we shall implement a classifier using  a gaussian multivariate distribution. For such a distribution, the probability is given by:\n",
    "\n",
    "<center>$p(\\vec{x}) = \\frac{1}{\\sqrt{(2\\pi)^{n} \\det(\\Sigma)}} \\exp\\left(-\\frac{1}{2} (\\vec{x} - \\vec{\\mu})^T \\Sigma^{-1} (\\vec{x} - \\vec{\\mu}) \\right)$</center>\n",
    "\n",
    "Where $n$ is the dimension of the multivariate distribution, $\\Sigma$ is the so-called covariance matrix and $\\vec{\\mu}$ the mean vector. Given a set of training vectors $\\vec{v_1}, \\vec{v_2}, ... \\vec{v_N}$, the latter are determined as:\n",
    "\n",
    "<center>$\\Sigma := \\frac{1}{N}\\sum_i^N (\\vec{x}_i - \\vec{\\mu})(\\vec{x}_i - \\vec{\\mu})^T \\qquad \\vec{\\mu} := \\frac{1}{N} \\sum_i^N \\vec{x}_i$</center>\n",
    "\n",
    "So the idea is the following: Use a set of training vectors to compute a Gaussian distribution for each digit class describing the probability that a vector $\\vec{x}$ belongs to that class.\n",
    "After that, given a vector $\\vec{x}$ that we want to assign to one of the classes of our respective classifier, calculate the probability $p_d(\\vec{x})$ for all digit classes $d$ considered by the classifier and assign $\\vec{x}$ to the digit class $d$ for which $p_d(\\vec{x})$ is greatest.\n",
    "\n",
    "However, rather than calculating the actual probabilities, we are going to use Fisher's discriminant to create a binary classifier. That is, we are going to find a vector $\\alpha$ such that:\n",
    "\n",
    "<center>$S(\\vec{\\alpha}) := \\frac{|\\vec{\\mu}_1\\cdot \\vec{\\alpha} - \\vec{\\mu}_2\\cdot\\vec{\\alpha}|^2}{\\vec{\\alpha}^T(\\Sigma_1+\\Sigma_2)\\vec{\\alpha}}$</center>\n",
    "\n",
    "is minimized. Here, $\\Sigma_1$ and $\\Sigma_2$ are the respective covariante matrices of the two classes and $\\vec{\\mu}_1$ and $\\vec{\\mu}_2$ are the respective mean vectors. One can derive that $S(\\vec{\\alpha})$ is indeed minimized for:\n",
    "\n",
    "<center>$(\\Sigma_1+\\Sigma_2) \\vec{\\alpha} = (\\vec{\\mu}_1 - \\vec{\\mu}_2)$</center>\n",
    "\n",
    "So whenever we want to classify a vector $\\vec{x}$, we will first project it onto $\\vec{\\alpha}$ and then calculate the probability."
   ]
  },
  {
   "cell_type": "code",
   "execution_count": 255,
   "metadata": {},
   "outputs": [],
   "source": [
    "class FisherClassifier:\n",
    "    def __init__(self, data=None):\n",
    "        if(data != None):\n",
    "            self.digits = [0,1]\n",
    "            self.train(data)\n",
    "        \n",
    "    def train(self, trainData):\n",
    "        \"\"\"\n",
    "        Expects a list of two lists [l1, l2], where l1 and l2 are lists of vectors belonging to class 1\n",
    "        and 2, respectively.\n",
    "        Trains by calculating the parameters of the corresponding multivariate gaussian distributions p_c(x)\n",
    "        and the projection vector of the Fisher discriminant.\n",
    "        \"\"\"\n",
    "        #Calculate the parameters of p_c(x) for each digit class \n",
    "        self.params = {}\n",
    "        SigmaSum = np.zeros([57,57])\n",
    "        for i in range(2):\n",
    "            mu = sum(trainData[i])/len(trainData[i])\n",
    "            sdev = np.sqrt(sum([np.dot(np.transpose(x-mu),x-mu) for x in trainData[i]])/len(trainData[i]))[0][0]\n",
    "            Sigma = sum([np.dot(x-mu,np.transpose(x-mu)) for x in trainData[i]])/len(trainData[i])\n",
    "            SigmaSum += Sigma\n",
    "            fac = 1e-1\n",
    "            step = fac*np.identity(57)\n",
    "            while(np.linalg.det(Sigma) == 0):\n",
    "                Sigma += step\n",
    "            norm = len(trainData[i])/np.sqrt(np.linalg.det(2*np.pi*Sigma))\n",
    "            Sigmai = -1/2*np.linalg.inv(Sigma)\n",
    "            self.params[i] = [norm, mu, Sigmai]\n",
    "        #Calculate vector alpha, norm it, and calculate projection operator alpha * alpha^T\n",
    "        self.alpha = np.linalg.solve(SigmaSum, self.params[1][1] - self.params[0][1])\n",
    "        self.alpha = self.alpha/np.sqrt(sum(map(lambda x: x**2, self.alpha)))\n",
    "        self.P = np.dot(self.alpha, np.transpose(self.alpha))\n",
    "        #Transform inverse covariance matrix\n",
    "        for i in range(2):\n",
    "            self.params[i][2] = np.dot(self.P, np.dot(self.params[i][2], self.P))\n",
    "        print('Completed training on ' + str(sum([len(trainData[k]) for k in range(2)])) + ' data samples.')\n",
    "    \n",
    "    def gaussian(self, digit,x):            \n",
    "        norm, mu, Sigmai = self.params[digit]\n",
    "        return norm*np.exp(np.dot((x-mu).reshape(57),np.dot(Sigmai,x-mu).reshape(57)))\n",
    "    \n",
    "    def classify(self, data):\n",
    "        \"\"\"'\n",
    "        Expects a vector of dimension 57.\n",
    "        Returns digit, for which the probability is greatest assuming a gaussian multivariate distribution\n",
    "        \"\"\" \n",
    "        return max(range(2), key=lambda x: self.gaussian(x, data))\n",
    "    \n",
    "    def plot(self, xrange):\n",
    "        mu1, mu2 = self.params[0][1].reshape(57), self.params[1][1].reshape(57)\n",
    "        mu1_a = np.dot(mu1,self.alpha.reshape(57))\n",
    "        mu2_a = np.dot(mu2,self.alpha.reshape(57))\n",
    "        print('Projected mean vectors:' + str(mu1_a) + ' and ' + str(mu2_a))\n",
    "        fig, ax1 = plt.subplots()\n",
    "        ax2 = ax1.twinx()\n",
    "        ax1.plot(xrange, list(map(lambda x: self.gaussian(0,x*self.alpha), xrange)), 'b-')\n",
    "        ax2.plot(xrange, list(map(lambda x: self.gaussian(1,x*self.alpha), xrange)), 'r-')"
   ]
  },
  {
   "cell_type": "markdown",
   "metadata": {},
   "source": [
    "With the classifier defined, we derive a binary classifier with the training set of data:"
   ]
  },
  {
   "cell_type": "code",
   "execution_count": 256,
   "metadata": {},
   "outputs": [
    {
     "name": "stdout",
     "output_type": "stream",
     "text": [
      "Completed training on 3680 data samples.\n"
     ]
    }
   ],
   "source": [
    "C = FisherClassifier(train)"
   ]
  },
  {
   "cell_type": "markdown",
   "metadata": {},
   "source": [
    "Finally, we define a function runtest to run the <font color='blue'>classifer()</font>-functions of the respective classifier on the test data and obtain the confusion matrices and error rates"
   ]
  },
  {
   "cell_type": "code",
   "execution_count": 257,
   "metadata": {},
   "outputs": [],
   "source": [
    "from IPython.display import display, HTML\n",
    "def runtest(C):\n",
    "    confusionMat = np.zeros([len(C.digits), len(C.digits)], dtype=int)\n",
    "    for sample in test[0]:\n",
    "        confusionMat[0, C.classify(sample)] += 1\n",
    "    for sample in test[1]:\n",
    "        confusionMat[1, C.classify(sample)] += 1\n",
    "    print('-The confusion matrix is given by:')\n",
    "    html = pd.DataFrame(confusionMat,index=[str(x) for x in C.digits], columns=[str(x) for x in C.digits]).to_html()\n",
    "    display(HTML(html))\n",
    "    print('-The error rate is: ' + str(1-sum(np.diag(confusionMat))/(len(test[0]) + len(test[1]))) + '\\n')"
   ]
  },
  {
   "cell_type": "code",
   "execution_count": 258,
   "metadata": {},
   "outputs": [
    {
     "name": "stdout",
     "output_type": "stream",
     "text": [
      "-The confusion matrix is given by:\n"
     ]
    },
    {
     "data": {
      "text/html": [
       "<table border=\"1\" class=\"dataframe\">\n",
       "  <thead>\n",
       "    <tr style=\"text-align: right;\">\n",
       "      <th></th>\n",
       "      <th>0</th>\n",
       "      <th>1</th>\n",
       "    </tr>\n",
       "  </thead>\n",
       "  <tbody>\n",
       "    <tr>\n",
       "      <th>0</th>\n",
       "      <td>476</td>\n",
       "      <td>82</td>\n",
       "    </tr>\n",
       "    <tr>\n",
       "      <th>1</th>\n",
       "      <td>85</td>\n",
       "      <td>278</td>\n",
       "    </tr>\n",
       "  </tbody>\n",
       "</table>"
      ],
      "text/plain": [
       "<IPython.core.display.HTML object>"
      ]
     },
     "metadata": {},
     "output_type": "display_data"
    },
    {
     "name": "stdout",
     "output_type": "stream",
     "text": [
      "-The error rate is: 0.181324647123\n",
      "\n"
     ]
    }
   ],
   "source": [
    "runtest(C)"
   ]
  },
  {
   "cell_type": "code",
   "execution_count": 259,
   "metadata": {},
   "outputs": [
    {
     "name": "stdout",
     "output_type": "stream",
     "text": [
      "Projected mean vectors:-0.127520803163 and 0.971369753527\n"
     ]
    },
    {
     "data": {
      "image/png": "[encoded data removed]",
      "text/plain": [
       "<matplotlib.figure.Figure at 0x1e150a59630>"
      ]
     },
     "metadata": {},
     "output_type": "display_data"
    }
   ],
   "source": [
    "C.plot(np.arange(-1,2,1/200))"
   ]
  },
  {
   "cell_type": "markdown",
   "metadata": {},
   "source": [
    "The vector $\\vec{\\alpha}$ can also be used the derive information on what features are most important for classification. Since the vector  is chosen such that 'difference' of the classes is maximal, the vector tells us that the features associated with components of the vector that have larger absolute values are more important.\n",
    "We can provide a useful intuition to understand this concept. Consider a normed vector, where all components' absolute values are small and that specific component's absolute value is close to 1. The higher that absolute value is, the more 'similar' the vector will be to the canonical unit vector of that component. A canonical unit vector would mean that classification can be performed by projecting onto that feature's component, so all other components would not contribute to classification.\n",
    "\n",
    "For the $\\vec{\\alpha}$ calculated for this problem, the maximal absolute values are obtained in the order of magnitude of 1e-01."
   ]
  },
  {
   "cell_type": "code",
   "execution_count": 260,
   "metadata": {},
   "outputs": [
    {
     "data": {
      "text/plain": [
       "array([[ -1.13651666e-01],\n",
       "       [ -2.96656593e-02],\n",
       "       [  7.23313309e-02],\n",
       "       [  1.52518965e-02],\n",
       "       [  1.21368541e-01],\n",
       "       [  1.78730934e-01],\n",
       "       [  3.00613042e-01],\n",
       "       [  1.53240292e-01],\n",
       "       [  7.43085186e-02],\n",
       "       [  1.86233379e-02],\n",
       "       [  3.35839240e-02],\n",
       "       [ -8.35732395e-02],\n",
       "       [  3.26095253e-02],\n",
       "       [ -2.21798764e-02],\n",
       "       [  8.06544558e-03],\n",
       "       [  1.11164124e-01],\n",
       "       [  2.71139060e-02],\n",
       "       [  1.27131697e-01],\n",
       "       [  6.01864571e-02],\n",
       "       [  8.34007734e-02],\n",
       "       [  9.98199559e-02],\n",
       "       [  7.78618478e-02],\n",
       "       [  2.63536332e-01],\n",
       "       [  1.91657502e-01],\n",
       "       [ -4.83364004e-02],\n",
       "       [ -4.81462321e-02],\n",
       "       [ -2.83891396e-02],\n",
       "       [ -5.90271755e-02],\n",
       "       [ -3.70103952e-03],\n",
       "       [ -7.77074030e-02],\n",
       "       [ -3.44118171e-02],\n",
       "       [  2.90246757e-01],\n",
       "       [ -9.98748201e-02],\n",
       "       [ -1.26319900e-01],\n",
       "       [ -5.81973288e-02],\n",
       "       [  2.25038261e-02],\n",
       "       [ -5.76686421e-02],\n",
       "       [ -1.00617726e-01],\n",
       "       [ -4.84692523e-02],\n",
       "       [  3.59102407e-02],\n",
       "       [ -1.67456738e-03],\n",
       "       [ -7.47849342e-02],\n",
       "       [ -1.78728770e-01],\n",
       "       [ -6.87527899e-02],\n",
       "       [ -7.00890050e-02],\n",
       "       [ -8.02429482e-02],\n",
       "       [ -4.20642551e-01],\n",
       "       [ -1.36232308e-01],\n",
       "       [ -2.48269968e-01],\n",
       "       [ -3.71524441e-02],\n",
       "       [ -1.56946621e-01],\n",
       "       [  2.79813101e-01],\n",
       "       [  2.81807716e-01],\n",
       "       [  2.74134620e-02],\n",
       "       [ -1.29605181e-06],\n",
       "       [  2.53638265e-04],\n",
       "       [  1.16745111e-04]])"
      ]
     },
     "execution_count": 260,
     "metadata": {},
     "output_type": "execute_result"
    }
   ],
   "source": [
    "C.alpha"
   ]
  },
  {
   "cell_type": "code",
   "execution_count": null,
   "metadata": {},
   "outputs": [],
   "source": []
  }
 ],
 "metadata": {
  "kernelspec": {
   "display_name": "Python 3 (Root)",
   "language": "python",
   "name": "python3"
  },
  "language_info": {
   "codemirror_mode": {
    "name": "ipython",
    "version": 3
   },
   "file_extension": ".py",
   "mimetype": "text/x-python",
   "name": "python",
   "nbconvert_exporter": "python",
   "pygments_lexer": "ipython3",
   "version": "3.6.3"
  }
 },
 "nbformat": 4,
 "nbformat_minor": 1
}
